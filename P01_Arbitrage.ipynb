{
 "cells": [
  {
   "cell_type": "markdown",
   "metadata": {},
   "source": [
    "## Statement:\n",
    "You are embarking on an expedition in the remote valleys of Papua New Guinea, one of the last\n",
    "uncharted regions on Earth. During your journey, you encounter a tribe that operates on a barter\n",
    "system instead of using money. In this system, there are N different commodities available for\n",
    "trade, and the exchange rates between these commodities are defined in a two-dimensional matrix.\n",
    "For instance, you might find that three sheep can be traded for seven goats, or four goats can be\n",
    "exchanged for 200 pounds of wheat, and so on.\n",
    "\n",
    "Your task is to develop an efficient algorithm to determine whether it is possible to exploit arbitrage\n",
    "opportunities within this trading system. Arbitrage, in this context, means finding a way to start\n",
    "with a single unit of a particular commodity (let's call it commodity 0) and convert it back into\n",
    "more than one unit of commodity 0 by following a sequence of exchanges. You should assume that\n",
    "there are no transaction costs, the exchange rates are constant, and you can trade fractional\n",
    "quantities of items.\n",
    "\n",
    "<hr>"
   ]
  },
  {
   "cell_type": "markdown",
   "metadata": {},
   "source": [
    "### Consider the below matrix depicting the exchange rates between different commodities:\n",
    "\n",
    "$$\n",
    "\\left(\\begin{array}{cc}\n",
    "A&B&C\\\\\n",
    "1&2&1/3\\\\\n",
    "1/2&1&2\\\\\n",
    "3&1/2&1\\\\\n",
    "\\end{array}\\right)\n",
    "$$\n",
    "\n",
    "In the matrix please notice that trading rate between two commodities is consistent i.e., **x** commodity of A is traded for **y** commondity of B also, **y** B will be traded for **x** A. So the trading rate is consistent with the opposite direction too of a trade among two commodities.\n",
    "\n",
    "Aribtrage scenario:\n",
    "\n",
    "* **1** commodity of A can be traded for **2** from B.\n",
    "* **2** B can be traded for **4** C (2*2).\n",
    "* Finally, **4** C can be traded for **12** A (4*3).\n",
    "\n",
    "So we were able to trade 1 A to finally obtain 12 A through a series of trades involving different commodities, each being exchanging in their respective trade rate.\n"
   ]
  },
  {
   "cell_type": "markdown",
   "metadata": {},
   "source": [
    "## Approach that utilizing depth first search (DFS) ⬇️\n",
    "\n",
    "Where we view each commodity as a node in our graph and we begin traversal from our target commodity. This is a fully-connected graph where each commodity can be traded to another commodity following the exchange rate.\n",
    "\n",
    "We start with a target commodity present at a particular quantity, we want to know if we can **establish an arbitrage** on that target commodity.\n",
    "\n",
    "* In each trade we traverse from one commodity to another\n",
    "* After a trade we check what is the value of the received good in terms of our target commodity and if greater than initial quantity -> \"Arbitrage\"\n",
    "* Else we perform more trades and identify if possible.\n",
    "* If not possible, we terminate"
   ]
  },
  {
   "cell_type": "code",
   "execution_count": 1,
   "metadata": {},
   "outputs": [],
   "source": [
    "from typing import List"
   ]
  },
  {
   "cell_type": "code",
   "execution_count": 2,
   "metadata": {},
   "outputs": [],
   "source": [
    "trade_rate = [\n",
    "    [1, 2, 1/3],\n",
    "    [1/2, 1, 2],\n",
    "    [3, 1/2, 1],\n",
    "]\n",
    "# We are interested in arbitrage of commodity A, denoted by index '0'\n",
    "target_commodity, start_quantity = 0, 1\n",
    "trades = []"
   ]
  },
  {
   "cell_type": "code",
   "execution_count": 3,
   "metadata": {},
   "outputs": [],
   "source": [
    "def has_arbitrage(i, curr: int, target_commodity: int, quantity: int):\n",
    "    \"\"\"Checks if arbitrage is possible! Follows a depth first search approach to find the first trade route to establish an arbitrage.\n",
    "\n",
    "    Args:\n",
    "        curr (int): The current item that we are considering after previous trade to this 'curr' item\n",
    "        target_commodity (int): The item of interest 'target_commodity'\n",
    "        quantity (int): The current quantity of items we have, measured in terms of our item of interest (target_commodity)\n",
    "\n",
    "    Returns:\n",
    "        bool: Whether arbitrage is possible\n",
    "    \"\"\"\n",
    "    N = len(trade_rate)\n",
    "    if (i == N):\n",
    "        return False\n",
    "\n",
    "    for next_comm in range(N):\n",
    "        if (next_comm == curr or next_comm == target_commodity):\n",
    "            continue\n",
    "        # Trade rate from the current item curr to item 'next_comm'\n",
    "        exchange_rate = trade_rate[curr][next_comm]\n",
    "        curr_to_next_comm_qty = exchange_rate*quantity  # Quantity in item 'next_comm'\n",
    "        # Quantity of item 'next_comm' if exchanged for our target item\n",
    "        next_comm_to_target_qty = curr_to_next_comm_qty * \\\n",
    "            trade_rate[next_comm][target_commodity]\n",
    "\n",
    "        # If trades for more than STARTING target quantity then arbitrage is possible.\n",
    "        if (next_comm_to_target_qty > start_quantity):\n",
    "            trades.append((curr, next_comm, curr_to_next_comm_qty,\n",
    "                          next_comm_to_target_qty))\n",
    "            return True\n",
    "        else:\n",
    "            if (has_arbitrage(i+1, next_comm, target_commodity, curr_to_next_comm_qty)):\n",
    "                trades.append((curr, next_comm, curr_to_next_comm_qty,\n",
    "                               next_comm_to_target_qty))\n",
    "                return True\n",
    "\n",
    "    return False"
   ]
  },
  {
   "cell_type": "code",
   "execution_count": 7,
   "metadata": {},
   "outputs": [
    {
     "name": "stdout",
     "output_type": "stream",
     "text": [
      "Target Commodity A, Quantity: 1\n",
      "A -> B, Exchange: 2\n",
      "B -> C, Exchange: 4\n",
      "A -> B, Exchange: 2\n",
      "B -> C, Exchange: 4\n",
      ">> FINAL - C -> A: 12\n"
     ]
    }
   ],
   "source": [
    "# Scenario when arbitrage possible\n",
    "\n",
    "trade_rate = [\n",
    "    [1, 2, 1/3],\n",
    "    [1/2, 1, 2],\n",
    "    [3, 1/2, 1],\n",
    "]\n",
    "\n",
    "status = has_arbitrage(0, target_commodity, target_commodity, 1)\n",
    "\n",
    "if (status):\n",
    "    N = len(trades)\n",
    "    print(f\"Target Commodity {chr(target_commodity + 65)}, Quantity: {start_quantity}\")\n",
    "    for i, ele in enumerate(reversed(trades)):\n",
    "        print(f\"{chr(ele[0] + 65)} -> {chr(ele[1] + 65)}, Exchange: {ele[2]}\")\n",
    "        \n",
    "        if (i == N - 1):\n",
    "        # This is the last trade, where we trade to our target commodity\n",
    "            end_quantity = ele[3]\n",
    "            print(\n",
    "                f\">> FINAL - {chr(ele[1] + 65)} -> {chr(target_commodity + 65)}: {ele[3]}\")\n",
    "else:\n",
    "    print(\"Couldn't establish arbitrage\")"
   ]
  },
  {
   "cell_type": "code",
   "execution_count": 8,
   "metadata": {},
   "outputs": [
    {
     "name": "stdout",
     "output_type": "stream",
     "text": [
      "Couldn't establish arbitrage\n"
     ]
    }
   ],
   "source": [
    "# Scenario when arbitrage not possible\n",
    "\n",
    "trade_rate = [\n",
    "    [1, 1, 1],\n",
    "    [1, 1, 1],\n",
    "    [1, 1, 1],\n",
    "]\n",
    "status = has_arbitrage(0, target_commodity, target_commodity, 1)\n",
    "\n",
    "if (status):\n",
    "    N = len(trades)\n",
    "    print(f\"Target Commodity {chr(target_commodity + 65)}, Quantity: {start_quantity}\")\n",
    "    for i, ele in enumerate(reversed(trades)):\n",
    "        print(f\"{chr(ele[0] + 65)} -> {chr(ele[1] + 65)}, Exchange: {ele[2]}\")\n",
    "        \n",
    "        if (i == N - 1):\n",
    "        # This is the last trade, where we trade to our target commodity\n",
    "            end_quantity = ele[3]\n",
    "            print(\n",
    "                f\">> FINAL - {chr(ele[1] + 65)} -> {chr(target_commodity + 65)}: {ele[3]}\")\n",
    "else:\n",
    "    print(\"Couldn't establish arbitrage\")\n"
   ]
  },
  {
   "cell_type": "markdown",
   "metadata": {},
   "source": [
    "## Analysis\n",
    "\n",
    "Time Complexity: $O(N^2)$ (You have N recursive calls and each call you check N vertices = $N^2$)\n",
    "\n",
    "Space Complexity: $O(N)$ (The stack depth is the number of vertices which is N)"
   ]
  }
 ],
 "metadata": {
  "kernelspec": {
   "display_name": "Python 3",
   "language": "python",
   "name": "python3"
  },
  "language_info": {
   "codemirror_mode": {
    "name": "ipython",
    "version": 3
   },
   "file_extension": ".py",
   "mimetype": "text/x-python",
   "name": "python",
   "nbconvert_exporter": "python",
   "pygments_lexer": "ipython3",
   "version": "3.10.12"
  }
 },
 "nbformat": 4,
 "nbformat_minor": 2
}
