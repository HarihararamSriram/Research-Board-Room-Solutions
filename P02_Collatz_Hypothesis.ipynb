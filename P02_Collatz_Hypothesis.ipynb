{
 "cells": [
  {
   "cell_type": "markdown",
   "metadata": {},
   "source": [
    "# Statement:\n",
    "Lothar Collatz proposed this remarkable conjecture in 1937: \"Define $C : {1, 2, 3, ...} ⟼ {1, 2, 3, ...}$ as\n",
    "follows: if n is even, $C(n) = n/2$, else $C(n) = 3n + 1$. Then for any choice of n, $Ci (n) = 11$, for some i”.\n",
    "For example, if we start with the number 11 and iteratively compute $Ci (11)$, we get the sequence $11,\n",
    "34, 17, 52, 26, 13, 40, 20, 10, 5, 16, 8, 4, 2, 1$.\n",
    "Despite intense efforts, the Collatz conjecture has not been proved or disproved.\n",
    "\n",
    "Suppose you are given the task of proving or disproving the Collatz conjecture for the first billion\n",
    "integers. A direct approach would be to compute the convergence sequence for each number in this set.\n",
    "How would you prove that Collatz hypothesis works for at least the first N integers? What is the\n",
    "runtime of your algorithm?\n",
    "\n",
    "<hr>"
   ]
  },
  {
   "cell_type": "markdown",
   "metadata": {},
   "source": [
    "## Approaches to the problem 🤔\n",
    "\n",
    "### Collatz Function\n",
    "\n",
    "The Collatz function can be expressed as follows:\n",
    "\n",
    "$$\n",
    "C(n) =\n",
    "\\begin{cases}\n",
    "n + 1, & \\text{if } n\\ is\\ odd \\\\\n",
    "n/2, & \\text{if } n\\ is\\ even\n",
    "\\end{cases}\n",
    "$$\n",
    "\n",
    "This function is applied iteratively to generate the Collatz sequence:\n",
    "\n",
    "1. If \\( n \\) is even, divide it by 2.\n",
    "2. If \\( n \\) is odd, multiply it by 3 and add 1.\n",
    "\n",
    "The Collatz conjecture posits that, regardless of the initial value of \\( n \\), this sequence will eventually reach the value 1.\n",
    "\n",
    "### Two approaches to the problem presented here are\n",
    "\n",
    "1) The naive approach of implementing this as a recursive calls till the value of the function reaches the base condition of 1, as the hypothesis claims.\n",
    "2) The optimized approach that utilizes a memo implemented using a hashmap, `dict` in Python that stores the results of previous recursive calls and it's sub-problems; it's based on the principle of memoization in dynamic programming.\n"
   ]
  },
  {
   "cell_type": "code",
   "execution_count": 1,
   "metadata": {},
   "outputs": [],
   "source": [
    "from typing import Dict, List\n",
    "from time import time_ns"
   ]
  },
  {
   "cell_type": "markdown",
   "metadata": {},
   "source": [
    "### Let's take the first 10 million numbers"
   ]
  },
  {
   "cell_type": "code",
   "execution_count": 2,
   "metadata": {},
   "outputs": [],
   "source": [
    "numbers = list(range(1, 10_000_001))\n",
    "results = []"
   ]
  },
  {
   "cell_type": "markdown",
   "metadata": {},
   "source": [
    "### Using the Approach (1)"
   ]
  },
  {
   "cell_type": "code",
   "execution_count": 40,
   "metadata": {},
   "outputs": [],
   "source": [
    "def collatz(n: int) -> int:\n",
    "    if n < 1:\n",
    "        # -1 is used to indicated that C(n) failed for some integer n, when result of calculation is less than 1\n",
    "        return -1\n",
    "    \n",
    "    # Base Condition\n",
    "    if n == 1:\n",
    "        return 1\n",
    "    \n",
    "    # If even\n",
    "    if n % 2 == 0:\n",
    "        return collatz(n // 2)\n",
    "    # If odd\n",
    "    else:\n",
    "        return collatz(3 * n + 1)"
   ]
  },
  {
   "cell_type": "code",
   "execution_count": 41,
   "metadata": {},
   "outputs": [],
   "source": [
    "def validate_regular_approach(numbers: List[int]) -> float:\n",
    "    \"\"\"Validates if the hypothesis is valid for a list of natural numbers\n",
    "\n",
    "    Args:\n",
    "        numbers (List[int]): List containing natural numbers.\n",
    "\n",
    "    Returns:\n",
    "        float: The time (ns) it took to validate the hypothesis. -1 returned if the hypothesis is invalid\n",
    "    \"\"\"\n",
    "    start = time_ns()\n",
    "    is_valid = True\n",
    "    for num in numbers:\n",
    "        res = collatz(num)\n",
    "        if (res != 1):\n",
    "            is_valid = False\n",
    "            break\n",
    "        results.append(res)\n",
    "\n",
    "    if (is_valid):\n",
    "        print(\">>Verdict: Valid!\")\n",
    "        end = time_ns()\n",
    "        time_approach_1 = end - start\n",
    "        return time_approach_1\n",
    "    else:\n",
    "        print(\">>Verdict: Hypthoesis is Incorrect.\")\n",
    "        return -1"
   ]
  },
  {
   "cell_type": "code",
   "execution_count": null,
   "metadata": {},
   "outputs": [],
   "source": [
    "%%time\n",
    "time_took_regular = validate_regular_approach(numbers)\n",
    "    \n",
    "if(time_took_regular != -1):\n",
    "    print(round(time_took_regular, 4))"
   ]
  },
  {
   "cell_type": "markdown",
   "metadata": {},
   "source": [
    "### Using the optimized Approach (2) 🦾"
   ]
  },
  {
   "cell_type": "code",
   "execution_count": 3,
   "metadata": {},
   "outputs": [],
   "source": [
    "memo: Dict[int, int] = {1: 1}\n",
    "\n",
    "\n",
    "def collatz_memo(n: int) -> int:\n",
    "    if n < 1:\n",
    "        # -1 is used to indicated that C(n) failed for some integer n, when result of calculation is less than 1\n",
    "        return -1\n",
    "    if n == 1:\n",
    "        return 1\n",
    "\n",
    "    if memo.get(n, None) is not None:\n",
    "        return memo[n]\n",
    "    if n % 2 == 0:\n",
    "        memo[n] = collatz_memo(n // 2)\n",
    "        return memo[n]\n",
    "    else:\n",
    "        memo[n] = collatz_memo(3 * n + 1)\n",
    "        return memo[n]\n",
    "\n",
    "\n",
    "# print(collatz(1000))"
   ]
  },
  {
   "cell_type": "code",
   "execution_count": 4,
   "metadata": {},
   "outputs": [],
   "source": [
    "def validate_optimized_approach(numbers: List[int]) -> float:\n",
    "    \"\"\"Validates if the hypothesis is valid for a list of natural numbers\n",
    "\n",
    "    Args:\n",
    "        numbers (List[int]): List containing natural numbers.\n",
    "\n",
    "    Returns:\n",
    "        float: The time (ns) it took to validate the hypothesis. -1 returned if the hypothesis is invalid\n",
    "    \"\"\"\n",
    "    # The dictionary that stores our previous results.\n",
    "    global memo\n",
    "    memo = {1: 1}\n",
    "    is_valid = True\n",
    "    start = time_ns()\n",
    "\n",
    "    # Calculating the value of the function for all 'n' numbers (1 to n)\n",
    "    for num in numbers:\n",
    "        res = collatz_memo(num)\n",
    "        if (res != 1):\n",
    "            is_valid = False\n",
    "            break\n",
    "        results.append(res)\n",
    "\n",
    "    if (is_valid):\n",
    "        print(\">>Verdict: Valid!\")\n",
    "        end = time_ns()\n",
    "        time_approach_1 = end - start\n",
    "        return time_approach_1\n",
    "    else:\n",
    "        print(\">>Verdict: Hypthoesis is Incorrect.\")\n",
    "        return -1"
   ]
  },
  {
   "cell_type": "code",
   "execution_count": null,
   "metadata": {},
   "outputs": [],
   "source": [
    "time_took_optimzied = validate_optimized_approach(numbers)\n",
    "print(round(time_took_optimzied, 4))"
   ]
  },
  {
   "cell_type": "markdown",
   "metadata": {},
   "source": [
    "## Analysis of runtimes for various size of input in terms of first 'n' numbers, (n) 📈\n",
    "Input (n): 10, 100, 10,00, 10,000, 100,000, 1,000,000, 10,000,000"
   ]
  },
  {
   "cell_type": "code",
   "execution_count": 44,
   "metadata": {},
   "outputs": [
    {
     "name": "stdout",
     "output_type": "stream",
     "text": [
      "100\n",
      ">>Verdict: Valid!\n",
      "1000\n",
      ">>Verdict: Valid!\n",
      "10000\n",
      ">>Verdict: Valid!\n",
      "100000\n",
      ">>Verdict: Valid!\n",
      "1000000\n",
      ">>Verdict: Valid!\n",
      "10000000\n",
      ">>Verdict: Valid!\n"
     ]
    }
   ],
   "source": [
    "# Finding the run-time for first 'n' natural numbers, specified in `n_inputs`, using optimized approach\n",
    "n_inputs = [100, 1_000, 10_000, 100_000, 1_000_000, 10_000_000]\n",
    "times_optimized = []\n",
    "\n",
    "for n_input in n_inputs:\n",
    "    numbers = list(range(1, n_input+1))\n",
    "    print(len(numbers))\n",
    "    time_took = validate_optimized_approach(numbers)\n",
    "    if (time_took == -1):\n",
    "        break\n",
    "    times_optimized.append(time_took)"
   ]
  },
  {
   "cell_type": "code",
   "execution_count": 42,
   "metadata": {},
   "outputs": [
    {
     "name": "stdout",
     "output_type": "stream",
     "text": [
      "100\n",
      ">>Verdict: Valid!\n",
      "1000\n",
      ">>Verdict: Valid!\n",
      "10000\n",
      ">>Verdict: Valid!\n",
      "100000\n",
      ">>Verdict: Valid!\n",
      "1000000\n",
      ">>Verdict: Valid!\n",
      "10000000\n",
      ">>Verdict: Valid!\n"
     ]
    }
   ],
   "source": [
    "# Finding the run-time for first 'n' natural numbers, specified in `n_inputs`, regular approach\n",
    "n_inputs = [100, 1_000, 10_000, 100_000, 1_000_000, 10_000_000]\n",
    "times_regular = []\n",
    "\n",
    "for n_input in n_inputs:\n",
    "    numbers = list(range(1, n_input+1))\n",
    "    print(len(numbers))\n",
    "    time_took = validate_regular_approach(numbers)\n",
    "    if (time_took == -1):\n",
    "        break\n",
    "    times_regular.append(time_took)"
   ]
  },
  {
   "cell_type": "code",
   "execution_count": 52,
   "metadata": {},
   "outputs": [
    {
     "data": {
      "image/png": "[encoded data removed]",
      "text/plain": [
       "<Figure size 640x480 with 1 Axes>"
      ]
     },
     "metadata": {},
     "output_type": "display_data"
    }
   ],
   "source": [
    "# Plotting graph of run-time in regular approach (pink) and optimized approach (gold)\n",
    "import matplotlib.pyplot as plt\n",
    "\n",
    "plt.title(\"Run-time vs Input-Size\")\n",
    "plt.ticklabel_format(style='sci', axis='x', scilimits=(0, 0))\n",
    "plt.xlabel(\"First n numbers in terms of 10^x (x)\")\n",
    "plt.ylabel(\"Run-time in seconds (y)\")\n",
    "# plt.ylim(0, max(times) + 1)\n",
    "plt.yscale(\"linear\")\n",
    "# plt.ylim(top=max(times)*2)\n",
    "plt.scatter(range(1, len(n_inputs) + 1), times_optimized)\n",
    "plt.plot(range(1, len(n_inputs) + 1), times_optimized, \"gold\")\n",
    "plt.scatter(range(1, len(n_inputs) + 1), times_regular)\n",
    "plt.plot(range(1, len(n_inputs) + 1), times_regular, \"pink\")\n",
    "plt.show()"
   ]
  },
  {
   "cell_type": "code",
   "execution_count": 53,
   "metadata": {},
   "outputs": [
    {
     "name": "stdout",
     "output_type": "stream",
     "text": [
      "===== Time took in regular approach ====\n",
      "100, 1000, 10000, 100000, 1000000, 10000000\n",
      "SNo.\tRun-time\n",
      "1:\t998900 ns\n",
      "2:\t18064800 ns\n",
      "3:\t278570800 ns\n",
      "4:\t2609681200 ns\n",
      "5:\t32581796700 ns\n",
      "6:\t376597244400 ns\n",
      "\n",
      "===== Time took in optimized approach ====\n",
      "100, 1000, 10000, 100000, 1000000, 10000000\n",
      "SNo.\tRun-time\n",
      "1:\t1000600 ns\n",
      "2:\t2999000 ns\n",
      "3:\t18997600 ns\n",
      "4:\t164536700 ns\n",
      "5:\t1686863900 ns\n",
      "6:\t17686559900 ns\n"
     ]
    }
   ],
   "source": [
    "# Tabulation of run-time in each approach\n",
    "\n",
    "print(\"===== Time took in regular approach ====\")\n",
    "print(\", \".join([str(n_input) for n_input in n_inputs]))\n",
    "\n",
    "print(\"SNo.\\tRun-time\")\n",
    "for i, time in enumerate(times_regular):\n",
    "    print(f\"{i + 1}:\\t{time} ns\")\n",
    "\n",
    "\n",
    "print(\"\\n===== Time took in optimized approach ====\")\n",
    "print(\", \".join([str(n_input) for n_input in n_inputs]))\n",
    "\n",
    "print(\"SNo.\\tRun-time\")\n",
    "for i, time in enumerate(times_optimized):\n",
    "    print(f\"{i + 1}:\\t{time} ns\")"
   ]
  },
  {
   "cell_type": "markdown",
   "metadata": {},
   "source": [
    "Space Complexity: $O(N)$\n",
    "\n",
    "Time Complexity: Collatz Hypothesis is an unsolved mathematics problem and there is no established method to determine the number of recursive calls for a given 'n'. So the time complexity cannot be determined as a function of the number 'n'.\n",
    "\n",
    "Memoization by saving the previous results helps us in significantly reducing the run-time as indicated in the plot above for large values.\n",
    "\n",
    "Best Case time complexity is $Ω(log(N))$ where N is a whole-number power of 2. (E.g. $N = 4, 8, 16,$ etc.)\n",
    "\n",
    "In the best case the function in $log(N)$ recursive calls evaluates to $1$.\n",
    "\n",
    "The above plot helps in analyzing the run-time in proving the hypothesis for the collection of first 'n' numbers from $n=100$ to $n=10,000,000$."
   ]
  }
 ],
 "metadata": {
  "kernelspec": {
   "display_name": "regular",
   "language": "python",
   "name": "python3"
  },
  "language_info": {
   "codemirror_mode": {
    "name": "ipython",
    "version": 3
   },
   "file_extension": ".py",
   "mimetype": "text/x-python",
   "name": "python",
   "nbconvert_exporter": "python",
   "pygments_lexer": "ipython3",
   "version": "3.10.12"
  }
 },
 "nbformat": 4,
 "nbformat_minor": 2
}
